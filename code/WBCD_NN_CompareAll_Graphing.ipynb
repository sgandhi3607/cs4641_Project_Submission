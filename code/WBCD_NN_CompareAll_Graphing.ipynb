{
 "cells": [
  {
   "cell_type": "markdown",
   "metadata": {},
   "source": [
    "WBCD Dataset Neural Network "
   ]
  },
  {
   "cell_type": "markdown",
   "metadata": {},
   "source": [
    "### Import Libraries"
   ]
  },
  {
   "cell_type": "code",
   "execution_count": 13,
   "metadata": {},
   "outputs": [],
   "source": [
    "import mlrose\n",
    "\n",
    "from sklearn.datasets import load_iris\n",
    "from sklearn.model_selection import train_test_split\n",
    "from sklearn.preprocessing import MinMaxScaler, OneHotEncoder\n",
    "from sklearn.metrics import accuracy_score"
   ]
  },
  {
   "cell_type": "markdown",
   "metadata": {},
   "source": [
    "### Import more Libraries\n"
   ]
  },
  {
   "cell_type": "code",
   "execution_count": 14,
   "metadata": {},
   "outputs": [],
   "source": [
    "import numpy as np\n",
    "import pandas as pd\n",
    "import time \n",
    "\n",
    "import matplotlib.pyplot as plt\n",
    "\n",
    "# from sklearn.cross_validation import cross_val_score\n",
    "from sklearn.metrics import mean_squared_error\n",
    "from sklearn.model_selection import KFold\n",
    "from sklearn.model_selection import train_test_split\n",
    "from sklearn.neural_network import MLPClassifier\n",
    "from sklearn.preprocessing import StandardScaler\n",
    "from sklearn.utils import shuffle\n",
    "\n",
    "from textwrap import wrap"
   ]
  },
  {
   "cell_type": "markdown",
   "metadata": {},
   "source": [
    "### Load Dataset"
   ]
  },
  {
   "cell_type": "code",
   "execution_count": 15,
   "metadata": {},
   "outputs": [],
   "source": [
    "RANDOM_SEED = 25\n",
    "\n",
    "\n",
    "columns = ['Radius','Texture','Perimeter','Area','Smoothness','Compactness',\n",
    "           'Concavity','Concave_Points','Symmetry','Fractal_Dimension',\n",
    "           'Malignant/Benign']\n",
    "\n",
    "# Read CSV file into pandas df\n",
    "df = pd.read_csv('../datasets/breast_cancer/breast-cancer-wisconsin.csv',\n",
    "                 delimiter=',', quotechar='\"', names=columns)"
   ]
  },
  {
   "cell_type": "markdown",
   "metadata": {},
   "source": [
    "### Dataframe without Preprocessing "
   ]
  },
  {
   "cell_type": "code",
   "execution_count": 16,
   "metadata": {},
   "outputs": [
    {
     "name": "stdout",
     "output_type": "stream",
     "text": [
      "Printing dataframe head (without any preprocessing)....\n",
      "    Radius  Texture  Perimeter  Area  Smoothness  Compactness Concavity  \\\n",
      "0  1000025        5          1     1           1            2         1   \n",
      "1  1002945        5          4     4           5            7        10   \n",
      "2  1015425        3          1     1           1            2         2   \n",
      "3  1016277        6          8     8           1            3         4   \n",
      "4  1017023        4          1     1           3            2         1   \n",
      "5  1017122        8         10    10           8            7        10   \n",
      "6  1018099        1          1     1           1            2        10   \n",
      "7  1018561        2          1     2           1            2         1   \n",
      "8  1033078        2          1     1           1            2         1   \n",
      "9  1033078        4          2     1           1            2         1   \n",
      "\n",
      "   Concave_Points  Symmetry  Fractal_Dimension  Malignant/Benign  \n",
      "0               3         1                  1                 2  \n",
      "1               3         2                  1                 2  \n",
      "2               3         1                  1                 2  \n",
      "3               3         7                  1                 2  \n",
      "4               3         1                  1                 2  \n",
      "5               9         7                  1                 4  \n",
      "6               3         1                  1                 2  \n",
      "7               3         1                  1                 2  \n",
      "8               1         1                  5                 2  \n",
      "9               2         1                  1                 2  \n"
     ]
    }
   ],
   "source": [
    "print(\"Printing dataframe head (without any preprocessing)....\")\n",
    "print(df.head(10))"
   ]
  },
  {
   "cell_type": "markdown",
   "metadata": {},
   "source": [
    "### Dataset Preprocessing "
   ]
  },
  {
   "cell_type": "code",
   "execution_count": 17,
   "metadata": {},
   "outputs": [
    {
     "name": "stderr",
     "output_type": "stream",
     "text": [
      "/home/saksham/.local/lib/python3.5/site-packages/ipykernel_launcher.py:19: DeprecationWarning: \n",
      ".ix is deprecated. Please use\n",
      ".loc for label based indexing or\n",
      ".iloc for positional indexing\n",
      "\n",
      "See the documentation here:\n",
      "http://pandas.pydata.org/pandas-docs/stable/indexing.html#ix-indexer-is-deprecated\n"
     ]
    }
   ],
   "source": [
    "# Shuffle\n",
    "df = shuffle(df, random_state=RANDOM_SEED)\n",
    "\n",
    "# DROP USELESS ROWS AND COLUMNS\n",
    "df.dropna(inplace=True)\n",
    "cols = [0]\n",
    "# Drop ID column (it's not attribute or target)\n",
    "df.drop(df.columns[cols],axis=1,inplace=True)\n",
    "# Drop all data points with missing variables  (denoted by '?' entry)\n",
    "nostrings_row_list = [x.isdigit() for x in df.iloc[:,5]]\n",
    "df = df[nostrings_row_list]\n",
    "\n",
    "\n",
    "# Handle categorical data\n",
    "# df = pd.get_dummies(df)\n",
    "\n",
    "\n",
    "# Split data into X and y vectors\n",
    "X = df.ix[:, df.columns != 'Malignant/Benign']\n",
    "y = df['Malignant/Benign']\n",
    "\n",
    "# Change 2 -> 0 (benign) and 4 -> 1 (malignant)\n",
    "y.replace(2, 0, inplace=True)\n",
    "y.replace(4, 1, inplace=True)"
   ]
  },
  {
   "cell_type": "markdown",
   "metadata": {},
   "source": [
    "### Sanity Check on Dataframe "
   ]
  },
  {
   "cell_type": "code",
   "execution_count": 18,
   "metadata": {},
   "outputs": [
    {
     "name": "stdout",
     "output_type": "stream",
     "text": [
      "Sanity Check: Printing out dataframe and shape after preprocessing... \n",
      "     Texture  Perimeter  Area  Smoothness  Compactness Concavity  \\\n",
      "437        4          1     1           1            2         1   \n",
      "511        5          1     1           1            2         1   \n",
      "215        8          7     8           7            5         5   \n",
      "684        1          1     1           1            2         1   \n",
      "302       10         10    10           7            9        10   \n",
      "341        1          1     1           1            2         1   \n",
      "608        5         10    10          10           10        10   \n",
      "366        6         10    10          10            8        10   \n",
      "205        5         10    10           9            6        10   \n",
      "270        8          4     7           1            3        10   \n",
      "\n",
      "     Concave_Points  Symmetry  Fractal_Dimension  Malignant/Benign  \n",
      "437               1         1                  1                 0  \n",
      "511               2         1                  1                 0  \n",
      "215               5        10                  2                 1  \n",
      "684               1         1                  1                 0  \n",
      "302               7        10                 10                 1  \n",
      "341               3         1                  1                 0  \n",
      "608              10         1                  1                 1  \n",
      "366               7        10                  7                 1  \n",
      "205               7        10                  5                 1  \n",
      "270               3         9                  2                 1  \n",
      "df.shape:  (683, 10)\n"
     ]
    }
   ],
   "source": [
    "print(\"Sanity Check: Printing out dataframe and shape after preprocessing... \")\n",
    "print(df.head(10))\n",
    "print(\"df.shape: \", df.shape)\n"
   ]
  },
  {
   "cell_type": "markdown",
   "metadata": {},
   "source": [
    "### Training and Testing Split, Scaling "
   ]
  },
  {
   "cell_type": "code",
   "execution_count": 19,
   "metadata": {},
   "outputs": [
    {
     "name": "stderr",
     "output_type": "stream",
     "text": [
      "/home/saksham/.local/lib/python3.5/site-packages/sklearn/preprocessing/data.py:645: DataConversionWarning: Data with input dtype int64, object were all converted to float64 by StandardScaler.\n",
      "  return self.partial_fit(X, y)\n",
      "/home/saksham/.local/lib/python3.5/site-packages/ipykernel_launcher.py:9: DataConversionWarning: Data with input dtype int64, object were all converted to float64 by StandardScaler.\n",
      "  if __name__ == '__main__':\n",
      "/home/saksham/.local/lib/python3.5/site-packages/ipykernel_launcher.py:10: DataConversionWarning: Data with input dtype int64, object were all converted to float64 by StandardScaler.\n",
      "  # Remove the CWD from sys.path while we load stuff.\n"
     ]
    }
   ],
   "source": [
    "# Split into 30%  training data, 70% testing data\n",
    "X_train, X_test, y_train, y_test = train_test_split(X, y,\n",
    "                                                    test_size=0.30, random_state=RANDOM_SEED)\n",
    "\n",
    "\n",
    "# Apply scaling. Large values of certain features undesireable for NN\n",
    "scaler = StandardScaler()\n",
    "scaler.fit(X_train)\n",
    "X_train = scaler.transform(X_train)\n",
    "X_test = scaler.transform(X_test)"
   ]
  },
  {
   "cell_type": "markdown",
   "metadata": {},
   "source": [
    "### Sanity Check on X_train"
   ]
  },
  {
   "cell_type": "code",
   "execution_count": 20,
   "metadata": {},
   "outputs": [
    {
     "name": "stdout",
     "output_type": "stream",
     "text": [
      "Sanity Check: Printing out X_train... \n",
      "[[ 0.21607913  0.26729122  0.89900862  1.44426357  2.63187492  0.94645923\n",
      "   1.85978038  2.25742091 -0.34434076]\n",
      " [-0.1425522   1.54175711  1.22554822  2.47980054  0.356122    1.76653327\n",
      "   1.45180653  0.66496637 -0.34434076]\n",
      " [ 2.00923577 -0.36994172 -0.4071498  -0.62681039 -0.55417916  0.67310122\n",
      "  -0.99603658 -0.60899726  0.20067541]\n",
      " [-1.21844619 -0.68855819 -0.7336894  -0.62681039 -1.00932974 -0.69368885\n",
      "  -0.99603658 -0.60899726 -0.34434076]]\n",
      "X_train.shape:  (478, 9)\n",
      "X_test.shape:  (205, 9)\n",
      "y_train.shape:  (478,)\n",
      "y_test.shape:  (205,)\n"
     ]
    }
   ],
   "source": [
    "print(\"Sanity Check: Printing out X_train... \")\n",
    "print(X_train[:4])\n",
    "print(\"X_train.shape: \", X_train.shape)\n",
    "print(\"X_test.shape: \", X_test.shape)\n",
    "print(\"y_train.shape: \", y_train.shape)\n",
    "print(\"y_test.shape: \", y_test.shape)\n"
   ]
  },
  {
   "cell_type": "markdown",
   "metadata": {},
   "source": [
    "### Compare all Algos (RHC and SA in cell below) "
   ]
  },
  {
   "cell_type": "code",
   "execution_count": 31,
   "metadata": {},
   "outputs": [
    {
     "name": "stdout",
     "output_type": "stream",
     "text": [
      "Training NN with max_iter:  500\n",
      "Training NN with max_iter:  1000\n",
      "Training NN with max_iter:  1500\n",
      "Training NN with max_iter:  2000\n",
      "Training NN with max_iter:  2500\n",
      "Training NN with max_iter:  3000\n",
      "Training NN with max_iter:  3500\n",
      "Training NN with max_iter:  4000\n",
      "Training NN with max_iter:  4500\n",
      "Training NN with max_iter:  5000\n",
      "Training NN with max_iter:  5500\n",
      "Training NN with max_iter:  6000\n",
      "Training NN with max_iter:  6500\n",
      "Training NN with max_iter:  7000\n",
      "Training NN with max_iter:  7500\n",
      "Training NN with max_iter:  8000\n",
      "Training NN with max_iter:  8500\n",
      "Training NN with max_iter:  9000\n",
      "Training NN with max_iter:  9500\n",
      "Training NN with max_iter:  10000\n"
     ]
    }
   ],
   "source": [
    "np.random.seed(5)\n",
    "\n",
    "hidden_node_architecture = [15, 15, 15]\n",
    "\n",
    "# Lists to hold values for x and y axes \n",
    "max_iteration_list = [x for x in range(500, 10001, 500)]\n",
    "# max_iteration_list = [x for x in range(500, 1001, 500)]\n",
    "\n",
    "rhc_testError = []\n",
    "rhc_trainError = []\n",
    "sa_testError = []\n",
    "sa_trainError = []\n",
    "\n",
    "rhc_runtime = []\n",
    "sa_runtime = []\n",
    "\n",
    "schedule = mlrose.ExpDecay()\n",
    "\n",
    "\n",
    "# COMMENCE TRAINING LOOP \n",
    "for max_iter in max_iteration_list :\n",
    "    \n",
    "    print(\"Training NN with max_iter: \", max_iter)\n",
    "    \n",
    "    # Random Hill Climbing \n",
    "    rhc_nn_sigmoid = mlrose.NeuralNetwork(hidden_nodes = hidden_node_architecture, activation = 'sigmoid', \n",
    "                                        algorithm = 'random_hill_climb', \n",
    "                                        max_iters = max_iter, bias = True, is_classifier = True, \n",
    "                                        learning_rate = 0.01, early_stopping = True,\n",
    "                                            pop_size=100,\n",
    "                                        clip_max = 5, max_attempts = 100)\n",
    "\n",
    "    rhc_start_time = time.time()\n",
    "    \n",
    "    rhc_nn_sigmoid.fit(X_train, y_train)\n",
    "    \n",
    "    rhc_end_time = time.time()\n",
    "    \n",
    "    # Prediction based on y_train and y_test \n",
    "    rhc_y_train_pred = rhc_nn_sigmoid.predict(X_train)\n",
    "    rhc_y_test_pred = rhc_nn_sigmoid.predict(X_test)\n",
    "    \n",
    "    # MSE Values \n",
    "    rhc_train_err = mean_squared_error(y_train,\n",
    "                        rhc_y_train_pred)\n",
    "    rhc_test_err = mean_squared_error(y_test,\n",
    "                        rhc_y_test_pred) \n",
    "    \n",
    "    # Simulated Annealing\n",
    "    sa_nn_sigmoid = mlrose.NeuralNetwork(hidden_nodes = hidden_node_architecture, activation = 'sigmoid', \n",
    "                                        algorithm = 'simulated_annealing', \n",
    "                                        max_iters = max_iter, bias = True, is_classifier = True, \n",
    "                                        learning_rate = 0.01, early_stopping = True, schedule=schedule,\n",
    "                                        pop_size=100, \n",
    "                                        clip_max = 5, max_attempts = 100)\n",
    "    \n",
    "    sa_start_time = time.time()\n",
    "    \n",
    "    sa_nn_sigmoid.fit(X_train, y_train)\n",
    "    \n",
    "    sa_end_time = time.time()\n",
    "    \n",
    "    # Prediction based on y_train and y_test \n",
    "    sa_y_train_pred = sa_nn_sigmoid.predict(X_train)\n",
    "    sa_y_test_pred = sa_nn_sigmoid.predict(X_test)\n",
    "    \n",
    "    # MSE Values \n",
    "    sa_train_err = mean_squared_error(y_train,\n",
    "                        sa_y_train_pred)\n",
    "    sa_test_err = mean_squared_error(y_test,\n",
    "                        sa_y_test_pred) \n",
    "    \n",
    "    \n",
    "    # Append data to lists\n",
    "    rhc_testError.append(rhc_train_err)\n",
    "    rhc_trainError.append(rhc_test_err)\n",
    "    sa_testError.append(sa_train_err)\n",
    "    sa_trainError.append(sa_test_err)\n",
    "    \n",
    "    # Append runtime \n",
    "    rhc_runtime.append(rhc_end_time - rhc_start_time)\n",
    "    sa_runtime.append(sa_end_time - sa_start_time)\n",
    "    \n"
   ]
  },
  {
   "cell_type": "markdown",
   "metadata": {},
   "source": [
    "### Compare all Algos (GA and SGD in cell below) "
   ]
  },
  {
   "cell_type": "code",
   "execution_count": 32,
   "metadata": {},
   "outputs": [
    {
     "name": "stdout",
     "output_type": "stream",
     "text": [
      "Training NN with max_iter:  500\n",
      "Training NN with max_iter:  1000\n",
      "Training NN with max_iter:  1500\n",
      "Training NN with max_iter:  2000\n",
      "Training NN with max_iter:  2500\n",
      "Training NN with max_iter:  3000\n",
      "Training NN with max_iter:  3500\n",
      "Training NN with max_iter:  4000\n",
      "Training NN with max_iter:  4500\n",
      "Training NN with max_iter:  5000\n",
      "Training NN with max_iter:  5500\n",
      "Training NN with max_iter:  6000\n",
      "Training NN with max_iter:  6500\n",
      "Training NN with max_iter:  7000\n",
      "Training NN with max_iter:  7500\n",
      "Training NN with max_iter:  8000\n",
      "Training NN with max_iter:  8500\n",
      "Training NN with max_iter:  9000\n",
      "Training NN with max_iter:  9500\n",
      "Training NN with max_iter:  10000\n"
     ]
    }
   ],
   "source": [
    "\n",
    "hidden_node_architecture = [15, 15, 15]\n",
    "\n",
    "# Lists to hold values for x and y axes \n",
    "max_iteration_list = [x for x in range(500, 10001, 500)]\n",
    "\n",
    "ga_testError = []\n",
    "ga_trainError = []\n",
    "sgd_testError = []\n",
    "sgd_trainError = []\n",
    "\n",
    "ga_runtime = []\n",
    "sgd_runtime = []\n",
    "\n",
    "schedule = mlrose.ExpDecay()\n",
    "\n",
    "\n",
    "# COMMENCE TRAINING LOOP \n",
    "for max_iter in max_iteration_list :\n",
    "    \n",
    "    print(\"Training NN with max_iter: \", max_iter)\n",
    "    \n",
    "    # Random Hill Climbing \n",
    "    ga_nn_sigmoid = mlrose.NeuralNetwork(hidden_nodes = hidden_node_architecture, activation = 'sigmoid', \n",
    "                                        algorithm = 'genetic_alg', \n",
    "                                        max_iters = max_iter, bias = True, is_classifier = True, \n",
    "                                        learning_rate = 0.01, early_stopping = True,\n",
    "                                            pop_size=100, mutation_prob=0.10,\n",
    "                                        clip_max = 5, max_attempts = 100)\n",
    "\n",
    "    ga_start_time = time.time()\n",
    "    \n",
    "    ga_nn_sigmoid.fit(X_train, y_train)\n",
    "    \n",
    "    ga_end_time = time.time()\n",
    "    \n",
    "    # Prediction based on y_train and y_test \n",
    "    ga_y_train_pred = ga_nn_sigmoid.predict(X_train)\n",
    "    ga_y_test_pred = ga_nn_sigmoid.predict(X_test)\n",
    "\n",
    "    # MSE Values \n",
    "    ga_train_err = mean_squared_error(y_train,\n",
    "                        ga_y_train_pred)\n",
    "    ga_test_err = mean_squared_error(y_test,\n",
    "                        ga_y_test_pred) \n",
    "    \n",
    "    # Simulated Annealing\n",
    "    sgd_nn_sigmoid = mlrose.NeuralNetwork(hidden_nodes = hidden_node_architecture, activation = 'sigmoid', \n",
    "                                        algorithm = 'gradient_descent', \n",
    "                                        max_iters = max_iter, bias = True, is_classifier = True, \n",
    "                                        learning_rate = 0.01, early_stopping = True, schedule=schedule,\n",
    "                                        pop_size=100, \n",
    "                                        clip_max = 5, max_attempts = 100)\n",
    "    \n",
    "    sgd_start_time = time.time()\n",
    "    \n",
    "    sgd_nn_sigmoid.fit(X_train, y_train)\n",
    "    \n",
    "    sgd_end_time = time.time()\n",
    "    \n",
    "    # Prediction based on y_train and y_test \n",
    "    sgd_y_train_pred = sgd_nn_sigmoid.predict(X_train)\n",
    "    sgd_y_test_pred = sgd_nn_sigmoid.predict(X_test)\n",
    "    \n",
    "    # MSE Values \n",
    "    sgd_train_err = mean_squared_error(y_train,\n",
    "                        sgd_y_train_pred)\n",
    "    sgd_test_err = mean_squared_error(y_test,\n",
    "                        sgd_y_test_pred) \n",
    "    \n",
    "    \n",
    "    # Append data to lists\n",
    "    ga_testError.append(ga_train_err)\n",
    "    ga_trainError.append(ga_test_err)\n",
    "    sgd_testError.append(sgd_train_err)\n",
    "    sa_trainError.append(sgd_test_err)\n",
    "    \n",
    "    # Append runtime \n",
    "    ga_runtime.append(ga_end_time - ga_start_time)\n",
    "    sgd_runtime.append(sgd_end_time - sgd_start_time)\n",
    "    \n"
   ]
  },
  {
   "cell_type": "markdown",
   "metadata": {},
   "source": [
    "### Plot it out (Accuracy)"
   ]
  },
  {
   "cell_type": "code",
   "execution_count": 33,
   "metadata": {},
   "outputs": [
    {
     "data": {
      "image/png": "[encoded data removed]",
      "text/plain": [
       "<Figure size 432x288 with 1 Axes>"
      ]
     },
     "metadata": {
      "needs_background": "light"
     },
     "output_type": "display_data"
    }
   ],
   "source": [
    "plt.figure()\n",
    "title = \"WBCD NN Various Algorithms : Error x Training Iterations - Learning Rate = .01, Hidden Layers = [15,15,15]\"\n",
    "plt.title('\\n'.join(wrap(title,60)))\n",
    "# plt.subplots_adjust(top=0.85)\n",
    "plt.plot(max_iteration_list, rhc_testError, '-', label='RHC Test Error')\n",
    "plt.plot(max_iteration_list, sa_testError, '-', label='SA Test Error')\n",
    "plt.plot(max_iteration_list, ga_testError, '-', label='GA Test Error')\n",
    "plt.plot(max_iteration_list, sgd_testError, '-', label='SGD Test Error')\n",
    "plt.legend()\n",
    "plt.xlabel('Training Iterations')\n",
    "plt.ylabel('Error')\n",
    "filename = 'WBCD_AllCompared_Iterations.png'\n",
    "plt.savefig(\"../plots/\" + filename)"
   ]
  },
  {
   "cell_type": "markdown",
   "metadata": {},
   "source": [
    "### Plot it out (Runtime)"
   ]
  },
  {
   "cell_type": "code",
   "execution_count": 34,
   "metadata": {},
   "outputs": [
    {
     "data": {
      "image/png": "[encoded data removed]",
      "text/plain": [
       "<Figure size 432x288 with 1 Axes>"
      ]
     },
     "metadata": {
      "needs_background": "light"
     },
     "output_type": "display_data"
    }
   ],
   "source": [
    "plt.figure()\n",
    "title = \"WBCD NN Various Algorithms : Runtime x Training Iterations - Learning Rate = .01, Hidden Layers = [15,15,15]\"\n",
    "plt.title('\\n'.join(wrap(title,60)))\n",
    "# plt.subplots_adjust(top=0.85)\n",
    "plt.plot(max_iteration_list, rhc_runtime, '-', label='RHC Runtime')\n",
    "plt.plot(max_iteration_list, sa_runtime, '-', label='SA Runtime')\n",
    "plt.plot(max_iteration_list, ga_runtime, '-', label='GA Runtime')\n",
    "plt.plot(max_iteration_list, sgd_runtime, '-', label='SGD Runtime')\n",
    "plt.legend()\n",
    "plt.xlabel('Training Iterations')\n",
    "plt.ylabel('Time')\n",
    "filename = 'WBCD_AllCompared_Runtime.png'\n",
    "plt.savefig(\"../plots/\" + filename)"
   ]
  }
 ],
 "metadata": {
  "kernelspec": {
   "display_name": "Python 3",
   "language": "python",
   "name": "python3"
  },
  "language_info": {
   "codemirror_mode": {
    "name": "ipython",
    "version": 3
   },
   "file_extension": ".py",
   "mimetype": "text/x-python",
   "name": "python",
   "nbconvert_exporter": "python",
   "pygments_lexer": "ipython3",
   "version": "3.5.2"
  }
 },
 "nbformat": 4,
 "nbformat_minor": 2
}
