{
 "cells": [
  {
   "cell_type": "markdown",
   "metadata": {},
   "source": [
    "WBCD Dataset Neural Network "
   ]
  },
  {
   "cell_type": "markdown",
   "metadata": {},
   "source": [
    "### Import Libraries"
   ]
  },
  {
   "cell_type": "code",
   "execution_count": 2,
   "metadata": {},
   "outputs": [],
   "source": [
    "import mlrose\n",
    "\n",
    "from sklearn.datasets import load_iris\n",
    "from sklearn.model_selection import train_test_split\n",
    "from sklearn.preprocessing import MinMaxScaler, OneHotEncoder\n",
    "from sklearn.metrics import accuracy_score"
   ]
  },
  {
   "cell_type": "markdown",
   "metadata": {},
   "source": [
    "### Import more Libraries\n"
   ]
  },
  {
   "cell_type": "code",
   "execution_count": 3,
   "metadata": {},
   "outputs": [],
   "source": [
    "import numpy as np\n",
    "import pandas as pd\n",
    "\n",
    "import matplotlib.pyplot as plt\n",
    "\n",
    "# from sklearn.cross_validation import cross_val_score\n",
    "from sklearn.metrics import mean_squared_error\n",
    "from sklearn.model_selection import KFold\n",
    "from sklearn.model_selection import train_test_split\n",
    "from sklearn.neural_network import MLPClassifier\n",
    "from sklearn.preprocessing import StandardScaler\n",
    "from sklearn.utils import shuffle\n",
    "\n",
    "from textwrap import wrap"
   ]
  },
  {
   "cell_type": "markdown",
   "metadata": {},
   "source": [
    "### Load Dataset"
   ]
  },
  {
   "cell_type": "code",
   "execution_count": 4,
   "metadata": {},
   "outputs": [],
   "source": [
    "RANDOM_SEED = 25\n",
    "\n",
    "\n",
    "columns = ['Radius','Texture','Perimeter','Area','Smoothness','Compactness',\n",
    "           'Concavity','Concave_Points','Symmetry','Fractal_Dimension',\n",
    "           'Malignant/Benign']\n",
    "\n",
    "# Read CSV file into pandas df\n",
    "df = pd.read_csv('../datasets/breast_cancer/breast-cancer-wisconsin.csv',\n",
    "                 delimiter=',', quotechar='\"', names=columns)"
   ]
  },
  {
   "cell_type": "markdown",
   "metadata": {},
   "source": [
    "### Dataframe without Preprocessing "
   ]
  },
  {
   "cell_type": "code",
   "execution_count": 5,
   "metadata": {},
   "outputs": [
    {
     "name": "stdout",
     "output_type": "stream",
     "text": [
      "Printing dataframe head (without any preprocessing)....\n",
      "    Radius  Texture  Perimeter  Area  Smoothness  Compactness Concavity  \\\n",
      "0  1000025        5          1     1           1            2         1   \n",
      "1  1002945        5          4     4           5            7        10   \n",
      "2  1015425        3          1     1           1            2         2   \n",
      "3  1016277        6          8     8           1            3         4   \n",
      "4  1017023        4          1     1           3            2         1   \n",
      "5  1017122        8         10    10           8            7        10   \n",
      "6  1018099        1          1     1           1            2        10   \n",
      "7  1018561        2          1     2           1            2         1   \n",
      "8  1033078        2          1     1           1            2         1   \n",
      "9  1033078        4          2     1           1            2         1   \n",
      "\n",
      "   Concave_Points  Symmetry  Fractal_Dimension  Malignant/Benign  \n",
      "0               3         1                  1                 2  \n",
      "1               3         2                  1                 2  \n",
      "2               3         1                  1                 2  \n",
      "3               3         7                  1                 2  \n",
      "4               3         1                  1                 2  \n",
      "5               9         7                  1                 4  \n",
      "6               3         1                  1                 2  \n",
      "7               3         1                  1                 2  \n",
      "8               1         1                  5                 2  \n",
      "9               2         1                  1                 2  \n"
     ]
    }
   ],
   "source": [
    "print(\"Printing dataframe head (without any preprocessing)....\")\n",
    "print(df.head(10))"
   ]
  },
  {
   "cell_type": "markdown",
   "metadata": {},
   "source": [
    "### Dataset Preprocessing "
   ]
  },
  {
   "cell_type": "code",
   "execution_count": 6,
   "metadata": {},
   "outputs": [
    {
     "name": "stderr",
     "output_type": "stream",
     "text": [
      "/home/saksham/.local/lib/python3.5/site-packages/ipykernel_launcher.py:19: DeprecationWarning: \n",
      ".ix is deprecated. Please use\n",
      ".loc for label based indexing or\n",
      ".iloc for positional indexing\n",
      "\n",
      "See the documentation here:\n",
      "http://pandas.pydata.org/pandas-docs/stable/indexing.html#ix-indexer-is-deprecated\n"
     ]
    }
   ],
   "source": [
    "# Shuffle\n",
    "df = shuffle(df, random_state=RANDOM_SEED)\n",
    "\n",
    "# DROP USELESS ROWS AND COLUMNS\n",
    "df.dropna(inplace=True)\n",
    "cols = [0]\n",
    "# Drop ID column (it's not attribute or target)\n",
    "df.drop(df.columns[cols],axis=1,inplace=True)\n",
    "# Drop all data points with missing variables  (denoted by '?' entry)\n",
    "nostrings_row_list = [x.isdigit() for x in df.iloc[:,5]]\n",
    "df = df[nostrings_row_list]\n",
    "\n",
    "\n",
    "# Handle categorical data\n",
    "# df = pd.get_dummies(df)\n",
    "\n",
    "\n",
    "# Split data into X and y vectors\n",
    "X = df.ix[:, df.columns != 'Malignant/Benign']\n",
    "y = df['Malignant/Benign']\n",
    "\n",
    "# Change 2 -> 0 (benign) and 4 -> 1 (malignant)\n",
    "y.replace(2, 0, inplace=True)\n",
    "y.replace(4, 1, inplace=True)"
   ]
  },
  {
   "cell_type": "markdown",
   "metadata": {},
   "source": [
    "### Sanity Check on Dataframe "
   ]
  },
  {
   "cell_type": "code",
   "execution_count": 7,
   "metadata": {},
   "outputs": [
    {
     "name": "stdout",
     "output_type": "stream",
     "text": [
      "Sanity Check: Printing out dataframe and shape after preprocessing... \n",
      "     Texture  Perimeter  Area  Smoothness  Compactness Concavity  \\\n",
      "437        4          1     1           1            2         1   \n",
      "511        5          1     1           1            2         1   \n",
      "215        8          7     8           7            5         5   \n",
      "684        1          1     1           1            2         1   \n",
      "302       10         10    10           7            9        10   \n",
      "341        1          1     1           1            2         1   \n",
      "608        5         10    10          10           10        10   \n",
      "366        6         10    10          10            8        10   \n",
      "205        5         10    10           9            6        10   \n",
      "270        8          4     7           1            3        10   \n",
      "\n",
      "     Concave_Points  Symmetry  Fractal_Dimension  Malignant/Benign  \n",
      "437               1         1                  1                 0  \n",
      "511               2         1                  1                 0  \n",
      "215               5        10                  2                 1  \n",
      "684               1         1                  1                 0  \n",
      "302               7        10                 10                 1  \n",
      "341               3         1                  1                 0  \n",
      "608              10         1                  1                 1  \n",
      "366               7        10                  7                 1  \n",
      "205               7        10                  5                 1  \n",
      "270               3         9                  2                 1  \n",
      "df.shape:  (683, 10)\n"
     ]
    }
   ],
   "source": [
    "print(\"Sanity Check: Printing out dataframe and shape after preprocessing... \")\n",
    "print(df.head(10))\n",
    "print(\"df.shape: \", df.shape)\n"
   ]
  },
  {
   "cell_type": "markdown",
   "metadata": {},
   "source": [
    "### Training and Testing Split, Scaling "
   ]
  },
  {
   "cell_type": "code",
   "execution_count": 8,
   "metadata": {},
   "outputs": [
    {
     "name": "stderr",
     "output_type": "stream",
     "text": [
      "/home/saksham/.local/lib/python3.5/site-packages/sklearn/preprocessing/data.py:645: DataConversionWarning: Data with input dtype int64, object were all converted to float64 by StandardScaler.\n",
      "  return self.partial_fit(X, y)\n",
      "/home/saksham/.local/lib/python3.5/site-packages/ipykernel_launcher.py:9: DataConversionWarning: Data with input dtype int64, object were all converted to float64 by StandardScaler.\n",
      "  if __name__ == '__main__':\n",
      "/home/saksham/.local/lib/python3.5/site-packages/ipykernel_launcher.py:10: DataConversionWarning: Data with input dtype int64, object were all converted to float64 by StandardScaler.\n",
      "  # Remove the CWD from sys.path while we load stuff.\n"
     ]
    }
   ],
   "source": [
    "# Split into 30%  training data, 70% testing data\n",
    "X_train, X_test, y_train, y_test = train_test_split(X, y,\n",
    "                                                    test_size=0.30, random_state=RANDOM_SEED)\n",
    "\n",
    "\n",
    "# Apply scaling. Large values of certain features undesireable for NN\n",
    "scaler = StandardScaler()\n",
    "scaler.fit(X_train)\n",
    "X_train = scaler.transform(X_train)\n",
    "X_test = scaler.transform(X_test)"
   ]
  },
  {
   "cell_type": "markdown",
   "metadata": {},
   "source": [
    "### Sanity Check on X_train"
   ]
  },
  {
   "cell_type": "code",
   "execution_count": 9,
   "metadata": {},
   "outputs": [
    {
     "name": "stdout",
     "output_type": "stream",
     "text": [
      "Sanity Check: Printing out X_train... \n",
      "[[ 0.21607913  0.26729122  0.89900862  1.44426357  2.63187492  0.94645923\n",
      "   1.85978038  2.25742091 -0.34434076]\n",
      " [-0.1425522   1.54175711  1.22554822  2.47980054  0.356122    1.76653327\n",
      "   1.45180653  0.66496637 -0.34434076]\n",
      " [ 2.00923577 -0.36994172 -0.4071498  -0.62681039 -0.55417916  0.67310122\n",
      "  -0.99603658 -0.60899726  0.20067541]\n",
      " [-1.21844619 -0.68855819 -0.7336894  -0.62681039 -1.00932974 -0.69368885\n",
      "  -0.99603658 -0.60899726 -0.34434076]]\n",
      "X_train.shape:  (478, 9)\n",
      "X_test.shape:  (205, 9)\n",
      "y_train.shape:  (478,)\n",
      "y_test.shape:  (205,)\n"
     ]
    }
   ],
   "source": [
    "print(\"Sanity Check: Printing out X_train... \")\n",
    "print(X_train[:4])\n",
    "print(\"X_train.shape: \", X_train.shape)\n",
    "print(\"X_test.shape: \", X_test.shape)\n",
    "print(\"y_train.shape: \", y_train.shape)\n",
    "print(\"y_test.shape: \", y_test.shape)\n"
   ]
  },
  {
   "cell_type": "markdown",
   "metadata": {},
   "source": [
    "### Simulated Annealing Code (Test different starting temperatures) "
   ]
  },
  {
   "cell_type": "code",
   "execution_count": 51,
   "metadata": {},
   "outputs": [
    {
     "name": "stdout",
     "output_type": "stream",
     "text": [
      "Training NN with starting_temp:  0.75\n",
      "Training NN with starting_temp:  0.875\n",
      "Training NN with starting_temp:  1.0\n",
      "Training NN with starting_temp:  1.125\n",
      "Training NN with starting_temp:  1.25\n",
      "Training NN with starting_temp:  1.375\n",
      "Training NN with starting_temp:  1.5\n",
      "Training NN with starting_temp:  1.625\n",
      "Training NN with starting_temp:  1.75\n",
      "Training NN with starting_temp:  1.875\n",
      "Training NN with starting_temp:  2.0\n",
      "Training NN with starting_temp:  2.125\n",
      "Training NN with starting_temp:  2.25\n",
      "Training NN with starting_temp:  2.375\n",
      "Training NN with starting_temp:  2.5\n",
      "Training NN with starting_temp:  2.625\n"
     ]
    }
   ],
   "source": [
    "np.random.seed(23)\n",
    "\n",
    "hidden_node_architecture = [15, 15, 15]\n",
    "\n",
    "# Lists to hold values for x and y axes \n",
    "max_iter = 3000 \n",
    "testError = []\n",
    "trainError = []\n",
    "\n",
    "# exp_decay_constant = np.arange(0.005, 0.1, 0.005)\n",
    "starting_temp = np.arange(1, 2.75, 0.25)\n",
    "\n",
    "# COMMENCE TRAINING LOOP \n",
    "for temp in starting_temp: \n",
    "        \n",
    "    # Make decay object for Simulated Annealing to work\n",
    "    decayObject = mlrose.ExpDecay(init_temp=temp, exp_const=exp_constant, min_temp=0.001)\n",
    "    \n",
    "    print(\"Training NN with starting_temp: \", temp)\n",
    "    \n",
    "    nn_sigmoid = mlrose.NeuralNetwork(hidden_nodes = hidden_node_architecture, activation = 'sigmoid', \n",
    "                                        algorithm = 'simulated_annealing', \n",
    "                                        max_iters = max_iter, bias = True, is_classifier = True, \n",
    "                                        learning_rate = 0.01, early_stopping = True, \n",
    "                                        schedule=decayObject, \n",
    "                                        clip_max = 5, max_attempts = 100)\n",
    "\n",
    "    nn_sigmoid.fit(X_train, y_train)\n",
    "    \n",
    "    # Prediction based on y_train and y_test \n",
    "    y_train_pred = nn_sigmoid.predict(X_train)\n",
    "    y_test_pred = nn_sigmoid.predict(X_test)\n",
    "    \n",
    "    # MSE Values \n",
    "    train_err = mean_squared_error(y_train,\n",
    "                        y_train_pred)\n",
    "    test_err = mean_squared_error(y_test,\n",
    "                        y_test_pred) \n",
    "\n",
    "    # Accuracy Values\n",
    "    y_train_accuracy = accuracy_score(y_train, y_train_pred)\n",
    "    y_test_accuracy = accuracy_score(y_test, y_test_pred)\n",
    "    \n",
    "    data.append([max_iter, y_train_accuracy, y_test_accuracy, train_err, test_err])\n",
    "    \n",
    "    \n",
    "    # Append data to lists\n",
    "    testError.append(test_err)\n",
    "    trainError.append(train_err)\n",
    "    max_iter_list.append(max_iter)\n",
    "    \n",
    "    \n"
   ]
  },
  {
   "cell_type": "markdown",
   "metadata": {},
   "source": [
    "### Plot it out (Simulated Annealing - Change exp constant) "
   ]
  },
  {
   "cell_type": "code",
   "execution_count": 53,
   "metadata": {},
   "outputs": [
    {
     "data": {
      "image/png": "[encoded data removed]",
      "text/plain": [
       "<Figure size 432x288 with 1 Axes>"
      ]
     },
     "metadata": {
      "needs_background": "light"
     },
     "output_type": "display_data"
    }
   ],
   "source": [
    "plt.figure()\n",
    "title = \"WBCD NN Simulated Annealing (Geometric Decay) : Error x Starting Temperature - Learning Rate = .01, Hidden Layers = [15,15,15]\"\n",
    "plt.title('\\n'.join(wrap(title,60)))\n",
    "# plt.subplots_adjust(top=0.85)\n",
    "plt.plot(starting_temp, testError, '-', label='Test Error')\n",
    "plt.plot(starting_temp, trainError, '-', label='Train Error')\n",
    "plt.legend()\n",
    "plt.xlabel('Starting Temperature')\n",
    "plt.ylabel('Error')\n",
    "filename = 'WBCD_SA(GeomDecay)_Hyperparameters_StartingTemp.png'\n",
    "plt.savefig(\"../plots/\" + filename)"
   ]
  },
  {
   "cell_type": "markdown",
   "metadata": {},
   "source": [
    "### Simulated Annealing Code (TEST 3 Decays)\n"
   ]
  },
  {
   "cell_type": "code",
   "execution_count": 27,
   "metadata": {},
   "outputs": [
    {
     "name": "stdout",
     "output_type": "stream",
     "text": [
      "Training NN with max_iter:  500\n",
      "Training NN with max_iter:  1000\n",
      "Training NN with max_iter:  1500\n",
      "Training NN with max_iter:  2000\n",
      "Training NN with max_iter:  2500\n",
      "Training NN with max_iter:  3000\n",
      "Training NN with max_iter:  3500\n",
      "Training NN with max_iter:  4000\n",
      "Training NN with max_iter:  4500\n",
      "Training NN with max_iter:  5000\n",
      "Training NN with max_iter:  5500\n",
      "Training NN with max_iter:  6000\n",
      "Training NN with max_iter:  6500\n",
      "Training NN with max_iter:  7000\n",
      "Training NN with max_iter:  7500\n",
      "Training NN with max_iter:  8000\n",
      "Training NN with max_iter:  8500\n",
      "Training NN with max_iter:  9000\n",
      "Training NN with max_iter:  9500\n",
      "Training NN with max_iter:  10000\n",
      "DONE\n"
     ]
    }
   ],
   "source": [
    "np.random.seed(5)\n",
    "\n",
    "hidden_node_architecture = [15, 15, 15]\n",
    "\n",
    "# Lists to hold values for x and y axes \n",
    "max_iter_list = list()\n",
    "arith_testError = []\n",
    "arith_trainError = []\n",
    "geom_testError = []\n",
    "geom_trainError = []\n",
    "exp_testError = []\n",
    "exp_trainError = []\n",
    "\n",
    "\n",
    "# Create list to hold data on each trial\n",
    "data = []\n",
    "# Columns for df we'll create after loop \n",
    "cols = [\"Max Iterations\", \"training accuracy\", \"testing accuracy\", \"training MSE\", \"testing MSE\"]\n",
    "\n",
    "# Make decay objects for Simulated Annealing to work \n",
    "arith_decayObject = mlrose.ArithDecay()\n",
    "geom_decayObject = mlrose.GeomDecay()\n",
    "exp_decayObject = mlrose.ExpDecay()\n",
    "\n",
    "max_iter_list = [i for i in range(500, 10001, 500)]\n",
    "\n",
    "# COMMENCE TRAINING LOOP \n",
    "\n",
    "for max_iter in max_iter_list:\n",
    "    \n",
    "    print(\"Training NN with max_iter: \", max_iter)\n",
    "    \n",
    "    nn_sigmoid_arith = mlrose.NeuralNetwork(hidden_nodes = hidden_node_architecture, activation = 'sigmoid', \n",
    "                                        algorithm = 'simulated_annealing', \n",
    "                                        max_iters = max_iter, bias = True, is_classifier = True, \n",
    "                                        learning_rate = 0.01, early_stopping = True, \n",
    "                                        schedule=arith_decayObject, \n",
    "                                        clip_max = 5, max_attempts = 100)\n",
    "\n",
    "    nn_sigmoid_arith.fit(X_train, y_train)\n",
    "    \n",
    "    # Prediction based on y_train and y_test \n",
    "    y_train_pred_arith = nn_sigmoid_arith.predict(X_train)\n",
    "    y_test_pred_arith = nn_sigmoid_arith.predict(X_test)\n",
    "    \n",
    "    # MSE Values \n",
    "    arith_train_err = mean_squared_error(y_train,\n",
    "                        y_train_pred_arith)\n",
    "    arith_test_err = mean_squared_error(y_test,\n",
    "                        y_test_pred_arith) \n",
    "\n",
    "    \n",
    "    nn_sigmoid_geom = mlrose.NeuralNetwork(hidden_nodes = hidden_node_architecture, activation = 'sigmoid', \n",
    "                                        algorithm = 'simulated_annealing', \n",
    "                                        max_iters = max_iter, bias = True, is_classifier = True, \n",
    "                                        learning_rate = 0.01, early_stopping = True, \n",
    "                                        schedule=geom_decayObject, \n",
    "                                        clip_max = 5, max_attempts = 100)\n",
    "    \n",
    "    \n",
    "    nn_sigmoid_geom.fit(X_train, y_train)\n",
    "    \n",
    "    # Prediction based on y_train and y_test \n",
    "    y_train_pred_geom = nn_sigmoid_geom.predict(X_train)\n",
    "    y_test_pred_geom = nn_sigmoid_geom.predict(X_test)\n",
    "    \n",
    "    # MSE Values \n",
    "    geom_train_err = mean_squared_error(y_train,\n",
    "                        y_train_pred_geom)\n",
    "    geom_test_err = mean_squared_error(y_test,\n",
    "                        y_test_pred_geom) \n",
    "    \n",
    "    \n",
    "    \n",
    "    nn_sigmoid_exp = mlrose.NeuralNetwork(hidden_nodes = hidden_node_architecture, activation = 'sigmoid', \n",
    "                                        algorithm = 'simulated_annealing', \n",
    "                                        max_iters = max_iter, bias = True, is_classifier = True, \n",
    "                                        learning_rate = 0.01, early_stopping = True, \n",
    "                                        schedule=exp_decayObject, \n",
    "                                        clip_max = 5, max_attempts = 100)\n",
    "    \n",
    "    \n",
    "    nn_sigmoid_exp.fit(X_train, y_train)\n",
    "    \n",
    "    # Prediction based on y_train and y_test \n",
    "    y_train_pred_exp = nn_sigmoid_exp.predict(X_train)\n",
    "    y_test_pred_exp = nn_sigmoid_exp.predict(X_test)\n",
    "    \n",
    "    # MSE Values \n",
    "    exp_train_err = mean_squared_error(y_train,\n",
    "                        y_train_pred_exp)\n",
    "    exp_test_err = mean_squared_error(y_test,\n",
    "                        y_test_pred_exp) \n",
    "    \n",
    "    \n",
    "    \n",
    "    # Append data to lists\n",
    "    arith_testError.append(arith_test_err)\n",
    "    arith_trainError.append(arith_train_err)\n",
    "    geom_testError.append(geom_test_err)\n",
    "    geom_trainError.append(geom_train_err)\n",
    "    exp_testError.append(exp_test_err)\n",
    "    exp_trainError.append(exp_train_err)\n",
    "\n",
    "    \n",
    "print(\"DONE\")\n"
   ]
  },
  {
   "cell_type": "markdown",
   "metadata": {},
   "source": [
    "### Plot it out (Simulated Annealing - all 3) "
   ]
  },
  {
   "cell_type": "code",
   "execution_count": 29,
   "metadata": {},
   "outputs": [
    {
     "data": {
      "image/png": "[encoded data removed]",
      "text/plain": [
       "<Figure size 432x288 with 1 Axes>"
      ]
     },
     "metadata": {
      "needs_background": "light"
     },
     "output_type": "display_data"
    }
   ],
   "source": [
    "plt.figure()\n",
    "title = \"WBCD NN Simulated Annealing Comparing 3 decays) : Error x Max Iterations - Learning Rate = .01, Hidden Layers = [15,15,15]\"\n",
    "plt.title('\\n'.join(wrap(title,60)))\n",
    "# plt.subplots_adjust(top=0.85)\n",
    "\n",
    "plt.plot(max_iter_list, arith_testError, '-', label='Arithmetic Decay Test Error')\n",
    "# plt.plot(max_iter_list, arith_testError, '-', label='Arithmetic Decay Train Error')\n",
    "plt.plot(max_iter_list, geom_testError, '-', label='Geometric Decay Test Error')\n",
    "# plt.plot(max_iter_list, geom_testError, '-', label='Geometric Decay Train Error')\n",
    "plt.plot(max_iter_list, exp_testError, '-', label='Exponential Decay Test Error')\n",
    "# plt.plot(max_iter_list, exp_testError, '-', label='Exponential Decay Train Error')\n",
    "\n",
    "plt.legend()\n",
    "plt.xlabel('Max Iterations')\n",
    "plt.ylabel('Error')\n",
    "filename = 'WBCD_SA(All3Decays)_MaxIter.png'\n",
    "plt.savefig(\"../plots/\" + filename)"
   ]
  },
  {
   "cell_type": "markdown",
   "metadata": {},
   "source": [
    "### RHC Code"
   ]
  },
  {
   "cell_type": "code",
   "execution_count": 24,
   "metadata": {},
   "outputs": [
    {
     "name": "stdout",
     "output_type": "stream",
     "text": [
      "Training NN with max_iter:  100\n",
      "Training NN with max_iter:  150\n",
      "Training NN with max_iter:  200\n",
      "Training NN with max_iter:  250\n",
      "Training NN with max_iter:  300\n",
      "Training NN with max_iter:  350\n",
      "Training NN with max_iter:  400\n",
      "Training NN with max_iter:  450\n",
      "Training NN with max_iter:  500\n",
      "Training NN with max_iter:  550\n",
      "Training NN with max_iter:  600\n",
      "Training NN with max_iter:  650\n",
      "Training NN with max_iter:  700\n",
      "Training NN with max_iter:  750\n",
      "Training NN with max_iter:  800\n",
      "Training NN with max_iter:  850\n",
      "Training NN with max_iter:  900\n",
      "Training NN with max_iter:  950\n",
      "Training NN with max_iter:  1000\n",
      "Training NN with max_iter:  1050\n",
      "Training NN with max_iter:  1100\n",
      "Training NN with max_iter:  1150\n",
      "Training NN with max_iter:  1200\n",
      "Training NN with max_iter:  1250\n",
      "Training NN with max_iter:  1300\n",
      "Training NN with max_iter:  1350\n",
      "Training NN with max_iter:  1400\n",
      "Training NN with max_iter:  1450\n",
      "Training NN with max_iter:  1500\n",
      "Training NN with max_iter:  1550\n",
      "Training NN with max_iter:  1600\n",
      "Training NN with max_iter:  1650\n",
      "Training NN with max_iter:  1700\n",
      "Training NN with max_iter:  1750\n",
      "Training NN with max_iter:  1800\n",
      "Training NN with max_iter:  1850\n",
      "Training NN with max_iter:  1900\n",
      "Training NN with max_iter:  1950\n",
      "    Max Iterations  training accuracy  testing accuracy  training MSE  \\\n",
      "0              100           0.654812          0.639024      0.345188   \n",
      "1              150           0.345188          0.360976      0.654812   \n",
      "2              200           0.345188          0.360976      0.654812   \n",
      "3              250           0.654812          0.639024      0.345188   \n",
      "4              300           0.345188          0.360976      0.654812   \n",
      "5              350           0.654812          0.639024      0.345188   \n",
      "6              400           0.654812          0.639024      0.345188   \n",
      "7              450           0.345188          0.360976      0.654812   \n",
      "8              500           0.345188          0.360976      0.654812   \n",
      "9              550           0.654812          0.639024      0.345188   \n",
      "10             600           0.654812          0.639024      0.345188   \n",
      "11             650           0.654812          0.639024      0.345188   \n",
      "12             700           0.930962          0.936585      0.069038   \n",
      "13             750           0.345188          0.360976      0.654812   \n",
      "14             800           0.656904          0.658537      0.343096   \n",
      "15             850           0.654812          0.639024      0.345188   \n",
      "16             900           0.654812          0.639024      0.345188   \n",
      "17             950           0.654812          0.639024      0.345188   \n",
      "18            1000           0.259414          0.302439      0.740586   \n",
      "19            1050           0.654812          0.639024      0.345188   \n",
      "20            1100           0.654812          0.639024      0.345188   \n",
      "21            1150           0.341004          0.360976      0.658996   \n",
      "22            1200           0.345188          0.360976      0.654812   \n",
      "23            1250           0.654812          0.639024      0.345188   \n",
      "24            1300           0.654812          0.639024      0.345188   \n",
      "25            1350           0.345188          0.360976      0.654812   \n",
      "26            1400           0.654812          0.639024      0.345188   \n",
      "27            1450           0.345188          0.360976      0.654812   \n",
      "28            1500           0.345188          0.360976      0.654812   \n",
      "29            1550           0.345188          0.360976      0.654812   \n",
      "30            1600           0.654812          0.639024      0.345188   \n",
      "31            1650           0.345188          0.360976      0.654812   \n",
      "32            1700           0.640167          0.639024      0.359833   \n",
      "33            1750           0.345188          0.360976      0.654812   \n",
      "34            1800           0.345188          0.360976      0.654812   \n",
      "35            1850           0.345188          0.360976      0.654812   \n",
      "36            1900           0.142259          0.180488      0.857741   \n",
      "37            1950           0.345188          0.360976      0.654812   \n",
      "\n",
      "    testing MSE  \n",
      "0      0.360976  \n",
      "1      0.639024  \n",
      "2      0.639024  \n",
      "3      0.360976  \n",
      "4      0.639024  \n",
      "5      0.360976  \n",
      "6      0.360976  \n",
      "7      0.639024  \n",
      "8      0.639024  \n",
      "9      0.360976  \n",
      "10     0.360976  \n",
      "11     0.360976  \n",
      "12     0.063415  \n",
      "13     0.639024  \n",
      "14     0.341463  \n",
      "15     0.360976  \n",
      "16     0.360976  \n",
      "17     0.360976  \n",
      "18     0.697561  \n",
      "19     0.360976  \n",
      "20     0.360976  \n",
      "21     0.639024  \n",
      "22     0.639024  \n",
      "23     0.360976  \n",
      "24     0.360976  \n",
      "25     0.639024  \n",
      "26     0.360976  \n",
      "27     0.639024  \n",
      "28     0.639024  \n",
      "29     0.639024  \n",
      "30     0.360976  \n",
      "31     0.639024  \n",
      "32     0.360976  \n",
      "33     0.639024  \n",
      "34     0.639024  \n",
      "35     0.639024  \n",
      "36     0.819512  \n",
      "37     0.639024  \n"
     ]
    }
   ],
   "source": [
    "# np.random.seed(5)\n",
    "np.random.seed(27)\n",
    "\n",
    "hidden_node_architecture = [15, 15, 15]\n",
    "\n",
    "# Lists to hold values for x and y axes \n",
    "max_iter_list = list()\n",
    "testError = []\n",
    "trainError = []\n",
    "\n",
    "# Create list to hold data on each trial\n",
    "data = []\n",
    "# Columns for df we'll create after loop \n",
    "cols = [\"Max Iterations\", \"training accuracy\", \"testing accuracy\", \"training MSE\", \"testing MSE\"]\n",
    "\n",
    "# COMMENCE TRAINING LOOP \n",
    "# for max_iter in range(500, 10001, 500) :\n",
    "for max_iter in range(100, 2000, 50) :\n",
    "    \n",
    "    print(\"Training NN with max_iter: \", max_iter)\n",
    "    \n",
    "    nn_sigmoid = mlrose.NeuralNetwork(hidden_nodes = hidden_node_architecture, activation = 'sigmoid', \n",
    "                                        algorithm = 'random_hill_climb', \n",
    "                                        max_iters = max_iter, bias = True, is_classifier = True, \n",
    "                                        learning_rate = 0.01, early_stopping = True, \n",
    "                                        pop_size=100, restarts=5, \n",
    "                                        clip_max = 5, max_attempts = 100)\n",
    "\n",
    "    nn_sigmoid.fit(X_train, y_train)\n",
    "    \n",
    "    # Prediction based on y_train and y_test \n",
    "    y_train_pred = nn_sigmoid.predict(X_train)\n",
    "    y_test_pred = nn_sigmoid.predict(X_test)\n",
    "    \n",
    "    # MSE Values \n",
    "    train_err = mean_squared_error(y_train,\n",
    "                        y_train_pred)\n",
    "    test_err = mean_squared_error(y_test,\n",
    "                        y_test_pred) \n",
    "\n",
    "    # Accuracy Values\n",
    "    y_train_accuracy = accuracy_score(y_train, y_train_pred)\n",
    "    y_test_accuracy = accuracy_score(y_test, y_test_pred)\n",
    "    \n",
    "    data.append([max_iter, y_train_accuracy, y_test_accuracy, train_err, test_err])\n",
    "    \n",
    "    \n",
    "    # Append data to lists\n",
    "    testError.append(test_err)\n",
    "    trainError.append(train_err)\n",
    "    max_iter_list.append(max_iter)\n",
    "    \n",
    "    \n",
    "# Store results from above into df \n",
    "result_df = pd.DataFrame(data, columns=cols)\n",
    "print(result_df)\n",
    "    \n"
   ]
  },
  {
   "cell_type": "markdown",
   "metadata": {},
   "source": [
    "### Plot it out (RHC)"
   ]
  },
  {
   "cell_type": "code",
   "execution_count": 25,
   "metadata": {},
   "outputs": [
    {
     "data": {
      "image/png": "[encoded data removed]",
      "text/plain": [
       "<Figure size 432x288 with 1 Axes>"
      ]
     },
     "metadata": {
      "needs_background": "light"
     },
     "output_type": "display_data"
    }
   ],
   "source": [
    "\n",
    "\n",
    "plt.figure()\n",
    "title = \"WBCD NN Random Hill Climbing : Error x Max Iterations - Learning Rate = .01, Hidden Layers = [15,15,15]\"\n",
    "plt.title('\\n'.join(wrap(title,60)))\n",
    "# plt.subplots_adjust(top=0.85)\n",
    "plt.plot(max_iter_list, testError, '-', label='Test Error')\n",
    "plt.plot(max_iter_list, trainError, '-', label='Train Error')\n",
    "plt.legend()\n",
    "plt.xlabel('Max Iterations')\n",
    "plt.ylabel('Error')\n",
    "filename = 'WBCD_RHC_MaxIter_SMALLVar_Seed27.png'\n",
    "plt.savefig(\"../plots/\" + filename)\n"
   ]
  },
  {
   "cell_type": "markdown",
   "metadata": {},
   "source": [
    "### SGD Code "
   ]
  },
  {
   "cell_type": "code",
   "execution_count": 17,
   "metadata": {
    "scrolled": true
   },
   "outputs": [
    {
     "name": "stdout",
     "output_type": "stream",
     "text": [
      "Training NN with max_iter:  100\n",
      "Training NN with max_iter:  150\n",
      "Training NN with max_iter:  200\n",
      "Training NN with max_iter:  250\n",
      "Training NN with max_iter:  300\n",
      "Training NN with max_iter:  350\n",
      "Training NN with max_iter:  400\n",
      "Training NN with max_iter:  450\n",
      "Training NN with max_iter:  500\n",
      "Training NN with max_iter:  550\n",
      "Training NN with max_iter:  600\n",
      "Training NN with max_iter:  650\n",
      "Training NN with max_iter:  700\n",
      "Training NN with max_iter:  750\n",
      "Training NN with max_iter:  800\n",
      "Training NN with max_iter:  850\n",
      "Training NN with max_iter:  900\n",
      "Training NN with max_iter:  950\n",
      "    Max Iterations  training accuracy  testing accuracy  training MSE  \\\n",
      "0              100           0.976987          0.970732      0.023013   \n",
      "1              150           0.979079          0.970732      0.020921   \n",
      "2              200           0.974895          0.970732      0.025105   \n",
      "3              250           0.974895          0.975610      0.025105   \n",
      "4              300           0.979079          0.970732      0.020921   \n",
      "5              350           0.976987          0.975610      0.023013   \n",
      "6              400           0.968619          0.970732      0.031381   \n",
      "7              450           0.976987          0.975610      0.023013   \n",
      "8              500           0.976987          0.975610      0.023013   \n",
      "9              550           0.976987          0.975610      0.023013   \n",
      "10             600           0.974895          0.975610      0.025105   \n",
      "11             650           0.976987          0.975610      0.023013   \n",
      "12             700           0.974895          0.975610      0.025105   \n",
      "13             750           0.976987          0.975610      0.023013   \n",
      "14             800           0.974895          0.970732      0.025105   \n",
      "15             850           0.974895          0.975610      0.025105   \n",
      "16             900           0.974895          0.975610      0.025105   \n",
      "17             950           0.974895          0.975610      0.025105   \n",
      "\n",
      "    testing MSE  \n",
      "0      0.029268  \n",
      "1      0.029268  \n",
      "2      0.029268  \n",
      "3      0.024390  \n",
      "4      0.029268  \n",
      "5      0.024390  \n",
      "6      0.029268  \n",
      "7      0.024390  \n",
      "8      0.024390  \n",
      "9      0.024390  \n",
      "10     0.024390  \n",
      "11     0.024390  \n",
      "12     0.024390  \n",
      "13     0.024390  \n",
      "14     0.029268  \n",
      "15     0.024390  \n",
      "16     0.024390  \n",
      "17     0.024390  \n"
     ]
    }
   ],
   "source": [
    "# np.random.seed(5)\n",
    "np.random.seed(23)\n",
    "\n",
    "hidden_node_architecture = [15, 15, 15]\n",
    "\n",
    "# Lists to hold values for x and y axes \n",
    "max_iter_list = list()\n",
    "testError = []\n",
    "trainError = []\n",
    "\n",
    "# Create list to hold data on each trial\n",
    "data = []\n",
    "# Columns for df we'll create after loop \n",
    "cols = [\"Max Iterations\", \"training accuracy\", \"testing accuracy\", \"training MSE\", \"testing MSE\"]\n",
    "\n",
    "# COMMENCE TRAINING LOOP \n",
    "# for max_iter in range(500, 10001, 500) :\n",
    "for max_iter in range(100, 1000, 50) :\n",
    "    \n",
    "    print(\"Training NN with max_iter: \", max_iter)\n",
    "    \n",
    "    nn_sigmoid = mlrose.NeuralNetwork(hidden_nodes = hidden_node_architecture, activation = 'sigmoid', \n",
    "                                        algorithm = 'gradient_descent', \n",
    "                                        max_iters = max_iter, bias = True, is_classifier = True, \n",
    "                                        learning_rate = 0.01, early_stopping = True, \n",
    "                                        pop_size=100,\n",
    "                                        clip_max = 5, max_attempts = 100)\n",
    "\n",
    "    nn_sigmoid.fit(X_train, y_train)\n",
    "    \n",
    "    # Prediction based on y_train and y_test \n",
    "    y_train_pred = nn_sigmoid.predict(X_train)\n",
    "    y_test_pred = nn_sigmoid.predict(X_test)\n",
    "    \n",
    "    # MSE Values \n",
    "    train_err = mean_squared_error(y_train,\n",
    "                        y_train_pred)\n",
    "    test_err = mean_squared_error(y_test,\n",
    "                        y_test_pred) \n",
    "\n",
    "    # Accuracy Values\n",
    "    y_train_accuracy = accuracy_score(y_train, y_train_pred)\n",
    "    y_test_accuracy = accuracy_score(y_test, y_test_pred)\n",
    "    \n",
    "    data.append([max_iter, y_train_accuracy, y_test_accuracy, train_err, test_err])\n",
    "    \n",
    "    \n",
    "    # Append data to lists\n",
    "    testError.append(test_err)\n",
    "    trainError.append(train_err)\n",
    "    max_iter_list.append(max_iter)\n",
    "    \n",
    "    \n",
    "# Store results from above into df \n",
    "result_df = pd.DataFrame(data, columns=cols)\n",
    "print(result_df)\n",
    "    \n"
   ]
  },
  {
   "cell_type": "markdown",
   "metadata": {},
   "source": [
    "### Plot it out (SGD)"
   ]
  },
  {
   "cell_type": "code",
   "execution_count": 18,
   "metadata": {},
   "outputs": [
    {
     "data": {
      "image/png": "[encoded data removed]",
      "text/plain": [
       "<Figure size 432x288 with 1 Axes>"
      ]
     },
     "metadata": {
      "needs_background": "light"
     },
     "output_type": "display_data"
    }
   ],
   "source": [
    "\n",
    "plt.figure()\n",
    "title = \"WBCD NN Gradient Descent : Error x Max Iterations - Learning Rate = .01, Hidden Layers = [15,15,15]\"\n",
    "plt.title('\\n'.join(wrap(title,60)))\n",
    "# plt.subplots_adjust(top=0.85)\n",
    "plt.plot(max_iter_list, testError, '-', label='Test Error')\n",
    "plt.plot(max_iter_list, trainError, '-', label='Train Error')\n",
    "plt.legend()\n",
    "plt.xlabel('Max Iterations')\n",
    "plt.ylabel('Error')\n",
    "filename = 'WBCD_SGD_MaxIter_SMALLVar_Seed23.png'\n",
    "plt.savefig(\"../plots/\" + filename)\n"
   ]
  },
  {
   "cell_type": "markdown",
   "metadata": {},
   "source": [
    "### Genetic Algs Code"
   ]
  },
  {
   "cell_type": "code",
   "execution_count": 22,
   "metadata": {},
   "outputs": [
    {
     "name": "stdout",
     "output_type": "stream",
     "text": [
      "Training NN with max_iter:  500\n",
      "Training NN with max_iter:  1000\n",
      "Training NN with max_iter:  1500\n",
      "Training NN with max_iter:  2000\n",
      "Training NN with max_iter:  2500\n",
      "Training NN with max_iter:  3000\n",
      "Training NN with max_iter:  3500\n",
      "Training NN with max_iter:  4000\n",
      "Training NN with max_iter:  4500\n",
      "Training NN with max_iter:  5000\n",
      "Training NN with max_iter:  5500\n",
      "Training NN with max_iter:  6000\n",
      "Training NN with max_iter:  6500\n",
      "Training NN with max_iter:  7000\n",
      "Training NN with max_iter:  7500\n",
      "Training NN with max_iter:  8000\n",
      "Training NN with max_iter:  8500\n",
      "Training NN with max_iter:  9000\n",
      "Training NN with max_iter:  9500\n",
      "Training NN with max_iter:  10000\n",
      "    Max Iterations  training accuracy  testing accuracy  training MSE  \\\n",
      "0              500           0.968619          0.975610      0.031381   \n",
      "1             1000           0.939331          0.936585      0.060669   \n",
      "2             1500           0.947699          0.931707      0.052301   \n",
      "3             2000           0.912134          0.912195      0.087866   \n",
      "4             2500           0.956067          0.960976      0.043933   \n",
      "5             3000           0.926778          0.941463      0.073222   \n",
      "6             3500           0.935146          0.936585      0.064854   \n",
      "7             4000           0.956067          0.926829      0.043933   \n",
      "8             4500           0.951883          0.946341      0.048117   \n",
      "9             5000           0.941423          0.931707      0.058577   \n",
      "10            5500           0.949791          0.951220      0.050209   \n",
      "11            6000           0.956067          0.970732      0.043933   \n",
      "12            6500           0.964435          0.960976      0.035565   \n",
      "13            7000           0.947699          0.941463      0.052301   \n",
      "14            7500           0.970711          0.936585      0.029289   \n",
      "15            8000           0.956067          0.960976      0.043933   \n",
      "16            8500           0.945607          0.926829      0.054393   \n",
      "17            9000           0.949791          0.951220      0.050209   \n",
      "18            9500           0.941423          0.917073      0.058577   \n",
      "19           10000           0.930962          0.921951      0.069038   \n",
      "\n",
      "    testing MSE  \n",
      "0      0.024390  \n",
      "1      0.063415  \n",
      "2      0.068293  \n",
      "3      0.087805  \n",
      "4      0.039024  \n",
      "5      0.058537  \n",
      "6      0.063415  \n",
      "7      0.073171  \n",
      "8      0.053659  \n",
      "9      0.068293  \n",
      "10     0.048780  \n",
      "11     0.029268  \n",
      "12     0.039024  \n",
      "13     0.058537  \n",
      "14     0.063415  \n",
      "15     0.039024  \n",
      "16     0.073171  \n",
      "17     0.048780  \n",
      "18     0.082927  \n",
      "19     0.078049  \n"
     ]
    }
   ],
   "source": [
    "np.random.seed(5)\n",
    "\n",
    "hidden_node_architecture = [15, 15, 15]\n",
    "\n",
    "# Lists to hold values for x and y axes \n",
    "max_iter_list = list()\n",
    "testError = []\n",
    "trainError = []\n",
    "\n",
    "# Create list to hold data on each trial\n",
    "data = []\n",
    "# Columns for df we'll create after loop \n",
    "cols = [\"Max Iterations\", \"training accuracy\", \"testing accuracy\", \"training MSE\", \"testing MSE\"]\n",
    "\n",
    "# COMMENCE TRAINING LOOP \n",
    "for max_iter in range(500, 10001, 500) :\n",
    "    \n",
    "    print(\"Training NN with max_iter: \", max_iter)\n",
    "    \n",
    "    nn_sigmoid = mlrose.NeuralNetwork(hidden_nodes = hidden_node_architecture, activation = 'sigmoid', \n",
    "                                        algorithm = 'genetic_alg', \n",
    "                                        max_iters = max_iter, bias = True, is_classifier = True, \n",
    "                                        learning_rate = 0.01, early_stopping = True, \n",
    "                                        pop_size=100,\n",
    "                                        clip_max = 5, max_attempts = 100)\n",
    "\n",
    "    nn_sigmoid.fit(X_train, y_train)\n",
    "    \n",
    "    # Prediction based on y_train and y_test \n",
    "    y_train_pred = nn_sigmoid.predict(X_train)\n",
    "    y_test_pred = nn_sigmoid.predict(X_test)\n",
    "    \n",
    "    # MSE Values \n",
    "    train_err = mean_squared_error(y_train,\n",
    "                        y_train_pred)\n",
    "    test_err = mean_squared_error(y_test,\n",
    "                        y_test_pred) \n",
    "\n",
    "    # Accuracy Values\n",
    "    y_train_accuracy = accuracy_score(y_train, y_train_pred)\n",
    "    y_test_accuracy = accuracy_score(y_test, y_test_pred)\n",
    "    \n",
    "    data.append([max_iter, y_train_accuracy, y_test_accuracy, train_err, test_err])\n",
    "    \n",
    "    \n",
    "    # Append data to lists\n",
    "    testError.append(test_err)\n",
    "    trainError.append(train_err)\n",
    "    max_iter_list.append(max_iter)\n",
    "    \n",
    "    \n",
    "# Store results from above into df \n",
    "result_df = pd.DataFrame(data, columns=cols)\n",
    "print(result_df)\n",
    "    \n"
   ]
  },
  {
   "cell_type": "markdown",
   "metadata": {},
   "source": [
    "### Plot it out (Genetic Alg) "
   ]
  },
  {
   "cell_type": "code",
   "execution_count": 23,
   "metadata": {},
   "outputs": [
    {
     "data": {
      "image/png": "[encoded data removed]",
      "text/plain": [
       "<Figure size 432x288 with 1 Axes>"
      ]
     },
     "metadata": {
      "needs_background": "light"
     },
     "output_type": "display_data"
    }
   ],
   "source": [
    "\n",
    "plt.figure()\n",
    "title = \"WBCD NN Genetic Algorithm : Error x Max Iterations - Learning Rate = .01, Hidden Layers = [15,15,15]\"\n",
    "plt.title('\\n'.join(wrap(title,60)))\n",
    "# plt.subplots_adjust(top=0.85)\n",
    "plt.plot(max_iter_list, testError, '-', label='Test Error')\n",
    "plt.plot(max_iter_list, trainError, '-', label='Train Error')\n",
    "plt.legend()\n",
    "plt.xlabel('Max Iterations')\n",
    "plt.ylabel('Error')\n",
    "filename = 'WBCD_GA_MaxIter.png'\n",
    "plt.savefig(\"../plots/\" + filename)\n"
   ]
  }
 ],
 "metadata": {
  "kernelspec": {
   "display_name": "Python 3",
   "language": "python",
   "name": "python3"
  },
  "language_info": {
   "codemirror_mode": {
    "name": "ipython",
    "version": 3
   },
   "file_extension": ".py",
   "mimetype": "text/x-python",
   "name": "python",
   "nbconvert_exporter": "python",
   "pygments_lexer": "ipython3",
   "version": "3.5.2"
  }
 },
 "nbformat": 4,
 "nbformat_minor": 2
}
