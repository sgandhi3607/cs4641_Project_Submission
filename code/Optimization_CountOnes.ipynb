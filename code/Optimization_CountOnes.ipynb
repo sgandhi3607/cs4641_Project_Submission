{
 "cells": [
  {
   "cell_type": "markdown",
   "metadata": {},
   "source": [
    "### Import Libraries"
   ]
  },
  {
   "cell_type": "code",
   "execution_count": 8,
   "metadata": {},
   "outputs": [],
   "source": [
    "import mlrose\n",
    "import matplotlib.pyplot as plt \n",
    "import time \n",
    "\n",
    "from sklearn.datasets import load_iris\n",
    "from sklearn.model_selection import train_test_split\n",
    "from sklearn.preprocessing import MinMaxScaler, OneHotEncoder\n",
    "from sklearn.metrics import accuracy_score\n",
    "\n",
    "import numpy as np\n",
    "import pandas as pd\n",
    "from textwrap import wrap"
   ]
  },
  {
   "cell_type": "code",
   "execution_count": 36,
   "metadata": {},
   "outputs": [
    {
     "name": "stdout",
     "output_type": "stream",
     "text": [
      "Running for max_iteration size:  100\n",
      "Running for max_iteration size:  150\n",
      "Running for max_iteration size:  200\n",
      "Running for max_iteration size:  250\n",
      "Running for max_iteration size:  300\n",
      "Running for max_iteration size:  350\n",
      "Running for max_iteration size:  400\n",
      "Running for max_iteration size:  450\n",
      "Running for max_iteration size:  500\n"
     ]
    }
   ],
   "source": [
    "# Initialize fitness function object using pre-defined class\n",
    "fitness = mlrose.OneMax()\n",
    "\n",
    "np.random.seed(17)\n",
    "\n",
    "PROBLEM_SIZE = 50\n",
    "\n",
    "\n",
    "max_iteration_list = list()\n",
    "fitness_list_RHC = list()\n",
    "fitness_list_SM = list()\n",
    "fitness_list_GA = list()\n",
    "fitness_list_MIMIC = list()\n",
    "all_data = list()\n",
    "\n",
    "runtime_RHC = list()\n",
    "runtime_SM = list()\n",
    "runtime_GA = list()\n",
    "runtime_MIMIC = list()\n",
    "\n",
    "\n",
    "# Define optimization problem object\n",
    "problem = mlrose.DiscreteOpt(length = PROBLEM_SIZE, fitness_fn = fitness, maximize=True, max_val=2)\n",
    "\n",
    "for MAX_ITER in range(100, 501, 50):  \n",
    "\n",
    "    print(\"Running for max_iteration size: \", MAX_ITER)\n",
    "\n",
    "#     # # Define decay schedule\n",
    "\n",
    "    schedule = mlrose.ExpDecay(init_temp=0.4)\n",
    "\n",
    "    np.random.seed(17)\n",
    "    \n",
    "    \n",
    "    RHC_start = time.time()\n",
    "\n",
    "    # Solve using random hill climbing\n",
    "    best_state_RHC, best_fitness_RHC =  mlrose.random_hill_climb(problem, max_attempts=50, \n",
    "                                                                 max_iters=MAX_ITER, restarts=15, \n",
    "                                                                 init_state=None, curve=False, \n",
    "                                                                 random_state=None)\n",
    "    RHC_end = time.time()\n",
    "    SM_start = time.time()\n",
    "    \n",
    "\n",
    "    # Solve using simulated annealing \n",
    "    best_state_SM, best_fitness_SM = mlrose.simulated_annealing(problem, schedule = schedule, max_attempts = 50, \n",
    "                                                          max_iters = MAX_ITER, init_state = None)\n",
    "\n",
    "\n",
    "    SM_end = time.time()\n",
    "    GA_start = time.time()\n",
    "    \n",
    "    # Solve problem using the genetic algorithm\n",
    "    best_state_GA, best_fitness_GA = mlrose.genetic_alg(problem, pop_size=150, mutation_prob=0.15, max_attempts=20, \n",
    "                                                        max_iters=MAX_ITER, curve=False, random_state=None)\n",
    "\n",
    "    GA_end = time.time()\n",
    "    MIMIC_start = time.time()\n",
    "    \n",
    "    # Solve problem using mimic\n",
    "    best_state_MIMIC, best_fitness_MIMIC = mlrose.mimic(problem, pop_size=200, keep_pct=0.2, max_attempts=10, \n",
    "                                                  max_iters=MAX_ITER, curve=False, random_state=None)\n",
    "    \n",
    "    MIMIC_end = time.time()\n",
    "    \n",
    "    \n",
    "    \n",
    "    # Append to each individual list \n",
    "    fitness_list_RHC.append(best_fitness_RHC)\n",
    "    fitness_list_SM.append(best_fitness_SM)\n",
    "    fitness_list_GA.append(best_fitness_GA)\n",
    "    fitness_list_MIMIC.append(best_fitness_MIMIC)\n",
    "    \n",
    "    # Append Iteration size (For x-axis of our graph)\n",
    "    max_iteration_list.append(MAX_ITER)\n",
    "    \n",
    "    # Apend runtime \n",
    "    runtime_RHC.append(RHC_end - RHC_start)\n",
    "    runtime_SM.append(SM_end - SM_start)\n",
    "    runtime_GA.append(GA_end - GA_start)\n",
    "    runtime_MIMIC.append(MIMIC_end - MIMIC_start)\n",
    "    \n",
    "    # Append data to list (for dataframe later)\n",
    "    all_data.append([MAX_ITER, best_fitness_RHC, best_fitness_SM, best_fitness_GA, best_fitness_MIMIC])\n",
    "    "
   ]
  },
  {
   "cell_type": "code",
   "execution_count": 23,
   "metadata": {},
   "outputs": [
    {
     "name": "stdout",
     "output_type": "stream",
     "text": [
      "[1 1 1 1 1 1 1 1 1 1 1 1 1 0 1 1 1 1 1 1 1 1 1 0 1 1 1 1 1 1 1 1 1 0 1 1 1\n",
      " 1 1 1]\n"
     ]
    }
   ],
   "source": [
    "print(best_state_SM)"
   ]
  },
  {
   "cell_type": "markdown",
   "metadata": {},
   "source": [
    "### Plot Solution by each Algo"
   ]
  },
  {
   "cell_type": "code",
   "execution_count": 37,
   "metadata": {},
   "outputs": [
    {
     "data": {
      "image/png": "[encoded data removed]",
      "text/plain": [
       "<Figure size 432x288 with 1 Axes>"
      ]
     },
     "metadata": {
      "needs_background": "light"
     },
     "output_type": "display_data"
    }
   ],
   "source": [
    "plt.figure()\n",
    "title = \"Count Ones (Various Algorithms) : Best Solution x Training Iterations\"\n",
    "plt.title('\\n'.join(wrap(title,60)))\n",
    "# plt.subplots_adjust(top=0.85)\n",
    "plt.plot(max_iteration_list, fitness_list_RHC, '-', label='RHC Solution')\n",
    "plt.plot(max_iteration_list, fitness_list_SM, '-', label='SA Solution')\n",
    "plt.plot(max_iteration_list, fitness_list_GA, '-', label='GA  Solution')\n",
    "plt.plot(max_iteration_list, fitness_list_MIMIC, '-', label='MIMIC Solution')\n",
    "plt.legend()\n",
    "plt.xlabel('Training Iterations')\n",
    "plt.ylabel('Best Solution')\n",
    "filename = 'CountOnes_BestSolution_small.png'\n",
    "plt.savefig(\"../plots/\" + filename)"
   ]
  },
  {
   "cell_type": "markdown",
   "metadata": {},
   "source": [
    "### Plot Runtime by each algo "
   ]
  },
  {
   "cell_type": "code",
   "execution_count": 38,
   "metadata": {},
   "outputs": [
    {
     "data": {
      "image/png": "[encoded data removed]",
      "text/plain": [
       "<Figure size 432x288 with 1 Axes>"
      ]
     },
     "metadata": {
      "needs_background": "light"
     },
     "output_type": "display_data"
    }
   ],
   "source": [
    "plt.figure()\n",
    "title = \"Count Ones (Various Algorithms) : Runtime x Training Iterations\"\n",
    "plt.title('\\n'.join(wrap(title,60)))\n",
    "# plt.subplots_adjust(top=0.85)\n",
    "plt.plot(max_iteration_list, runtime_RHC, '-', label='RHC Solution')\n",
    "plt.plot(max_iteration_list, runtime_SM, '-', label='SA Solution')\n",
    "plt.plot(max_iteration_list, runtime_GA, '-', label='GA  Solution')\n",
    "plt.plot(max_iteration_list, runtime_MIMIC, '-', label='MIMIC Solution')\n",
    "plt.legend()\n",
    "plt.xlabel('Training Iterations')\n",
    "plt.ylabel('Runtime')\n",
    "filename = 'CountOnes_Runtime.png'\n",
    "plt.savefig(\"../plots/\" + filename)"
   ]
  },
  {
   "cell_type": "code",
   "execution_count": 20,
   "metadata": {},
   "outputs": [],
   "source": [
    "# Save everything in pandas dataframe \n",
    "cols = [\"Max Iterations\", \"RHC Solution\", \"SM Solution\", \"GA Solution\", \"MIMIC Solution\"]\n",
    "\n",
    "countOnes_df = pd.DataFrame(all_data, columns=cols)\n",
    "countOnes_df.to_csv(\"CountOnes_Runtime_data.csv\")"
   ]
  },
  {
   "cell_type": "code",
   "execution_count": 21,
   "metadata": {},
   "outputs": [
    {
     "name": "stdout",
     "output_type": "stream",
     "text": [
      "   Max Iterations  RHC Solution  SM Solution  GA Solution  MIMIC Solution\n",
      "0              20          35.0         32.0         39.0            50.0\n",
      "1              40          41.0         33.0         37.0            50.0\n",
      "2              60          42.0         33.0         39.0            50.0\n",
      "3              80          42.0         34.0         38.0            50.0\n",
      "4             100          42.0         36.0         37.0            50.0\n"
     ]
    }
   ],
   "source": [
    "print(countOnes_df)"
   ]
  }
 ],
 "metadata": {
  "kernelspec": {
   "display_name": "Python 3",
   "language": "python",
   "name": "python3"
  },
  "language_info": {
   "codemirror_mode": {
    "name": "ipython",
    "version": 3
   },
   "file_extension": ".py",
   "mimetype": "text/x-python",
   "name": "python",
   "nbconvert_exporter": "python",
   "pygments_lexer": "ipython3",
   "version": "3.5.2"
  }
 },
 "nbformat": 4,
 "nbformat_minor": 2
}
